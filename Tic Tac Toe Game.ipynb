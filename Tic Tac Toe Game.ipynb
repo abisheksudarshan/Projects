{
 "cells": [
  {
   "cell_type": "markdown",
   "metadata": {},
   "source": [
    "# Tic Tac Toe game!"
   ]
  },
  {
   "cell_type": "code",
   "execution_count": 1,
   "metadata": {},
   "outputs": [],
   "source": [
    "from IPython.display import clear_output\n",
    "\n",
    "def display_board(board):\n",
    "    print ('{} | {} | {}'.format(board[9],board[8],board[7]))\n",
    "    print ('__ __ __')    \n",
    "    print ('{} | {} | {}'.format(board[6],board[5],board[4]))\n",
    "    print ('__ __ __')    \n",
    "    print ('{} | {} | {}'.format(board[3],board[2],board[1]))\n"
   ]
  },
  {
   "cell_type": "code",
   "execution_count": 2,
   "metadata": {},
   "outputs": [
    {
     "name": "stdout",
     "output_type": "stream",
     "text": [
      "X | O | X\n",
      "__ __ __\n",
      "O | X | O\n",
      "__ __ __\n",
      "X | O | X\n"
     ]
    }
   ],
   "source": [
    "test_board = ['#','X','O','X','O','X','O','X','O','X']\n",
    "display_board(test_board)"
   ]
  },
  {
   "cell_type": "code",
   "execution_count": 3,
   "metadata": {},
   "outputs": [],
   "source": [
    "def player_input():\n",
    "    marker_1='#'\n",
    "    while marker_1 not in ['X','O']:\n",
    "        marker_1=input(\"Please pick a marker 'X' or 'O'\").upper()\n",
    "    if marker_1=='X':\n",
    "        return ('X','O')\n",
    "    else:\n",
    "        return ('O','X')"
   ]
  },
  {
   "cell_type": "code",
   "execution_count": 4,
   "metadata": {},
   "outputs": [
    {
     "name": "stdout",
     "output_type": "stream",
     "text": [
      "Please pick a marker 'X' or 'O'X\n"
     ]
    },
    {
     "data": {
      "text/plain": [
       "('X', 'O')"
      ]
     },
     "execution_count": 4,
     "metadata": {},
     "output_type": "execute_result"
    }
   ],
   "source": [
    "player_input()"
   ]
  },
  {
   "cell_type": "code",
   "execution_count": 5,
   "metadata": {},
   "outputs": [],
   "source": [
    "def place_marker(board, marker, position):\n",
    "    board[position]=marker"
   ]
  },
  {
   "cell_type": "code",
   "execution_count": 6,
   "metadata": {},
   "outputs": [
    {
     "name": "stdout",
     "output_type": "stream",
     "text": [
      "X | $ | X\n",
      "__ __ __\n",
      "O | X | O\n",
      "__ __ __\n",
      "X | O | X\n"
     ]
    }
   ],
   "source": [
    "place_marker(test_board,'$',8)\n",
    "display_board(test_board)"
   ]
  },
  {
   "cell_type": "code",
   "execution_count": 7,
   "metadata": {},
   "outputs": [],
   "source": [
    "def win_check(board, mark):\n",
    "    return ((board[7] == mark and board[8] == mark and board[9] == mark) or # across the top\n",
    "    (board[4] == mark and board[5] == mark and board[6] == mark) or # across the middle\n",
    "    (board[1] == mark and board[2] == mark and board[3] == mark) or # across the bottom\n",
    "    (board[7] == mark and board[4] == mark and board[1] == mark) or # down the middle\n",
    "    (board[8] == mark and board[5] == mark and board[2] == mark) or # down the middle\n",
    "    (board[9] == mark and board[6] == mark and board[3] == mark) or # down the right side\n",
    "    (board[7] == mark and board[5] == mark and board[3] == mark) or # diagonal\n",
    "    (board[9] == mark and board[5] == mark and board[1] == mark)) # diagonal"
   ]
  },
  {
   "cell_type": "code",
   "execution_count": 8,
   "metadata": {},
   "outputs": [
    {
     "data": {
      "text/plain": [
       "True"
      ]
     },
     "execution_count": 8,
     "metadata": {},
     "output_type": "execute_result"
    }
   ],
   "source": [
    "win_check(test_board,'X')"
   ]
  },
  {
   "cell_type": "code",
   "execution_count": 9,
   "metadata": {},
   "outputs": [],
   "source": [
    "import random\n",
    "\n",
    "def choose_first():\n",
    "    if (random.randint(0,1))==0:\n",
    "        return 'Player 1'\n",
    "    else:\n",
    "        return 'Player 2'"
   ]
  },
  {
   "cell_type": "code",
   "execution_count": 10,
   "metadata": {},
   "outputs": [],
   "source": [
    "def space_check(board, position):\n",
    "    return board[position]==' '"
   ]
  },
  {
   "cell_type": "code",
   "execution_count": 11,
   "metadata": {},
   "outputs": [],
   "source": [
    "def full_board_check(board):\n",
    "    for i in range(1,10):\n",
    "        if space_check(board, i):\n",
    "            return False\n",
    "    return True\n",
    "    "
   ]
  },
  {
   "cell_type": "code",
   "execution_count": 12,
   "metadata": {},
   "outputs": [],
   "source": [
    "def player_choice(board):\n",
    "    position = 0\n",
    "    \n",
    "    while position not in [1,2,3,4,5,6,7,8,9] or not space_check(board, position):\n",
    "        position = int(input('Choose your next position: (1-9) '))\n",
    "        \n",
    "    return position"
   ]
  },
  {
   "cell_type": "code",
   "execution_count": 13,
   "metadata": {},
   "outputs": [],
   "source": [
    "def replay():\n",
    "    \n",
    "    return input('Do you want to play again? Enter Yes or No: ').lower().startswith('y')"
   ]
  },
  {
   "cell_type": "code",
   "execution_count": 14,
   "metadata": {},
   "outputs": [
    {
     "name": "stdout",
     "output_type": "stream",
     "text": [
      "Welcome to Tic Tac Toe!\n",
      "  |   |  \n",
      "__ __ __\n",
      "  |   |  \n",
      "__ __ __\n",
      "  |   |  \n",
      "Please pick a marker 'X' or 'O'X\n",
      "Player 2 will go first.\n",
      "Are you ready to play? Enter Yes or No.y\n",
      "  |   |  \n",
      "__ __ __\n",
      "  |   |  \n",
      "__ __ __\n",
      "  |   |  \n",
      "Choose your next position: (1-9) 9\n",
      "O |   |  \n",
      "__ __ __\n",
      "  |   |  \n",
      "__ __ __\n",
      "  |   |  \n",
      "Choose your next position: (1-9) 6\n",
      "O |   |  \n",
      "__ __ __\n",
      "X |   |  \n",
      "__ __ __\n",
      "  |   |  \n",
      "Choose your next position: (1-9) 8\n",
      "O | O |  \n",
      "__ __ __\n",
      "X |   |  \n",
      "__ __ __\n",
      "  |   |  \n",
      "Choose your next position: (1-9) 7\n",
      "O | O | X\n",
      "__ __ __\n",
      "X |   |  \n",
      "__ __ __\n",
      "  |   |  \n",
      "Choose your next position: (1-9) 5\n",
      "O | O | X\n",
      "__ __ __\n",
      "X | O |  \n",
      "__ __ __\n",
      "  |   |  \n",
      "Choose your next position: (1-9) 1\n",
      "O | O | X\n",
      "__ __ __\n",
      "X | O |  \n",
      "__ __ __\n",
      "  |   | X\n",
      "Choose your next position: (1-9) 2\n",
      "O | O | X\n",
      "__ __ __\n",
      "X | O |  \n",
      "__ __ __\n",
      "  | O | X\n",
      "Player 2 has won!\n",
      "Do you want to play again? Enter Yes or No: y\n",
      "  |   |  \n",
      "__ __ __\n",
      "  |   |  \n",
      "__ __ __\n",
      "  |   |  \n",
      "Please pick a marker 'X' or 'O'X\n",
      "Player 1 will go first.\n",
      "Are you ready to play? Enter Yes or No.1\n",
      "Do you want to play again? Enter Yes or No: y\n",
      "  |   |  \n",
      "__ __ __\n",
      "  |   |  \n",
      "__ __ __\n",
      "  |   |  \n",
      "Please pick a marker 'X' or 'O'X\n",
      "Player 1 will go first.\n",
      "Are you ready to play? Enter Yes or No.y\n",
      "  |   |  \n",
      "__ __ __\n",
      "  |   |  \n",
      "__ __ __\n",
      "  |   |  \n",
      "Choose your next position: (1-9) 1\n",
      "  |   |  \n",
      "__ __ __\n",
      "  |   |  \n",
      "__ __ __\n",
      "  |   | X\n",
      "Choose your next position: (1-9) 9\n",
      "O |   |  \n",
      "__ __ __\n",
      "  |   |  \n",
      "__ __ __\n",
      "  |   | X\n",
      "Choose your next position: (1-9) 4\n",
      "O |   |  \n",
      "__ __ __\n",
      "  |   | X\n",
      "__ __ __\n",
      "  |   | X\n",
      "Choose your next position: (1-9) 7\n",
      "O |   | O\n",
      "__ __ __\n",
      "  |   | X\n",
      "__ __ __\n",
      "  |   | X\n",
      "Choose your next position: (1-9) 8\n",
      "O | X | O\n",
      "__ __ __\n",
      "  |   | X\n",
      "__ __ __\n",
      "  |   | X\n",
      "Choose your next position: (1-9) 5\n",
      "O | X | O\n",
      "__ __ __\n",
      "  | O | X\n",
      "__ __ __\n",
      "  |   | X\n",
      "Choose your next position: (1-9) 3\n",
      "O | X | O\n",
      "__ __ __\n",
      "  | O | X\n",
      "__ __ __\n",
      "X |   | X\n",
      "Choose your next position: (1-9) 2\n",
      "O | X | O\n",
      "__ __ __\n",
      "  | O | X\n",
      "__ __ __\n",
      "X | O | X\n",
      "Choose your next position: (1-9) 6\n",
      "O | X | O\n",
      "__ __ __\n",
      "X | O | X\n",
      "__ __ __\n",
      "X | O | X\n",
      "The game is a draw!\n",
      "Do you want to play again? Enter Yes or No: n\n"
     ]
    }
   ],
   "source": [
    "print('Welcome to Tic Tac Toe!')\n",
    "\n",
    "while True:\n",
    "    # Set the game up here\n",
    "    board = [' ']*10\n",
    "    display_board(board)\n",
    "    pl_marker_1,pl_marker_2=player_input()\n",
    "    player_turn=choose_first()\n",
    "    print(player_turn + ' will go first.')\n",
    "    \n",
    "    play_game = input('Are you ready to play? Enter Yes or No.')\n",
    "    \n",
    "    if play_game.lower()[0] == 'y':\n",
    "        game_on = True\n",
    "    else:\n",
    "        game_on = False\n",
    "\n",
    "    \n",
    "    while game_on:\n",
    "        #Player 1 Turn\n",
    "        if player_turn=='Player 1':\n",
    "            display_board(board)\n",
    "            position = player_choice(board)\n",
    "            place_marker(board, pl_marker_1, position)\n",
    "\n",
    "            if win_check(board, pl_marker_1):\n",
    "                display_board(board)\n",
    "                print('Congratulations! You have won the game!')\n",
    "                game_on = False\n",
    "            else:\n",
    "                if full_board_check(board):\n",
    "                    display_board(board)\n",
    "                    print('The game is a draw!')\n",
    "                    break\n",
    "                else:\n",
    "                    player_turn = 'Player 2'\n",
    "\n",
    "        else:\n",
    "            # Player2's turn.\n",
    "            \n",
    "            display_board(board)\n",
    "            position = player_choice(board)\n",
    "            place_marker(board, pl_marker_2, position)\n",
    "\n",
    "            if win_check(board, pl_marker_2):\n",
    "                display_board(board)\n",
    "                print('Player 2 has won!')\n",
    "                game_on = False\n",
    "            else:\n",
    "                if full_board_check(board):\n",
    "                    display_board(board)\n",
    "                    print('The game is a draw!')\n",
    "                    break\n",
    "                else:\n",
    "                    player_turn = 'Player 1'\n",
    "\n",
    "    if not replay():\n",
    "        break"
   ]
  }
 ],
 "metadata": {
  "kernelspec": {
   "display_name": "Python 3",
   "language": "python",
   "name": "python3"
  },
  "language_info": {
   "codemirror_mode": {
    "name": "ipython",
    "version": 3
   },
   "file_extension": ".py",
   "mimetype": "text/x-python",
   "name": "python",
   "nbconvert_exporter": "python",
   "pygments_lexer": "ipython3",
   "version": "3.7.6"
  }
 },
 "nbformat": 4,
 "nbformat_minor": 1
}
